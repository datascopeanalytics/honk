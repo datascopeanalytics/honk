{
 "metadata": {
  "name": "",
  "signature": "sha256:96dfb51fd3a1b0f04387233a0be642bdb8e5dfe720819fa384b96ea220ef7787"
 },
 "nbformat": 3,
 "nbformat_minor": 0,
 "worksheets": [
  {
   "cells": [
    {
     "cell_type": "code",
     "collapsed": false,
     "input": [
      "from abjad import *\n",
      "%load_ext abjad.ext.ipython"
     ],
     "language": "python",
     "metadata": {},
     "outputs": [
      {
       "output_type": "stream",
       "stream": "stdout",
       "text": [
        "The abjad.ext.ipython extension is already loaded. To reload it, use:\n",
        "  %reload_ext abjad.ext.ipython\n"
       ]
      }
     ],
     "prompt_number": 6
    },
    {
     "cell_type": "code",
     "collapsed": false,
     "input": [
      "note = Note(\"c'4\")\n",
      "show(note)"
     ],
     "language": "python",
     "metadata": {},
     "outputs": [
      {
       "metadata": {},
       "output_type": "display_data",
       "png": "[encoded data removed]"
      }
     ],
     "prompt_number": 7
    },
    {
     "cell_type": "code",
     "collapsed": false,
     "input": [
      "pitch_numbers = 4 * [0, 2, 4, 9, 7]\n",
      "duration = Duration(1, 4)\n",
      "notes = scoretools.make_notes(pitch_numbers, duration)\n",
      "staff = Staff(notes)\n",
      "show(staff)"
     ],
     "language": "python",
     "metadata": {},
     "outputs": [
      {
       "metadata": {},
       "output_type": "display_data",
       "png": "[encoded data removed]"
      }
     ],
     "prompt_number": 10
    },
    {
     "cell_type": "code",
     "collapsed": false,
     "input": [],
     "language": "python",
     "metadata": {},
     "outputs": []
    }
   ],
   "metadata": {}
  }
 ]
}